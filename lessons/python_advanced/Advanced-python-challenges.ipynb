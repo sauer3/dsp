{
 "cells": [
  {
   "cell_type": "markdown",
   "metadata": {},
   "source": [
    "## Advanced Python Hacker Rank problems"
   ]
  },
  {
   "cell_type": "markdown",
   "metadata": {},
   "source": [
    "1. Write a function which reads in a csv file, and then returns a dictionary where keys are (standardized) degrees and values are their frequencies in the file. \n",
    "    \n",
    "    - Your function will be tested using the csv file located at: https://github.com/thisismetis/dsp/blob/master/lessons/data/faculty.csv\n",
    "    - Use regular expressions so that your code considers \"PhD\" and \"Ph.D.\" to be the same string. \n",
    "    - Do not use pandas. "
   ]
  },
  {
   "cell_type": "code",
   "execution_count": 3,
   "metadata": {},
   "outputs": [],
   "source": [
    "import csv\n",
    "import re"
   ]
  },
  {
   "cell_type": "code",
   "execution_count": 126,
   "metadata": {},
   "outputs": [],
   "source": [
    "def count_degrees(csv_file_name):\n",
    "    csv_reader = csv.reader(open(csv_file_name), delimiter=',')\n",
    "    \n",
    "    # Get list of degrees (rows from second column)\n",
    "    degrees = list(list(row)[1] for row in csv_reader)[1:]\n",
    "    \n",
    "    # Clean list of degrees - get rid of periods, convert to lower case, split spaces \n",
    "    degrees = [re.sub(\"\\.\", \"\", item).upper().split() for item in degrees]\n",
    "    \n",
    "    # flatten list - take lists within list and make one list\n",
    "    degrees = [item for sublist in degrees for item in sublist]\n",
    "    \n",
    "    # Count rows with given degree\n",
    "    freq = {} \n",
    "    for items in degrees: \n",
    "        freq[items] = degrees.count(items)\n",
    "        \n",
    "    return freq"
   ]
  },
  {
   "cell_type": "code",
   "execution_count": 127,
   "metadata": {},
   "outputs": [
    {
     "data": {
      "text/plain": [
       "{'SCD': 6,\n",
       " 'PHD': 31,\n",
       " 'MD': 1,\n",
       " 'MPH': 2,\n",
       " 'BSED': 1,\n",
       " 'MS': 2,\n",
       " 'JD': 1,\n",
       " 'MA': 1,\n",
       " '0': 1}"
      ]
     },
     "execution_count": 127,
     "metadata": {},
     "output_type": "execute_result"
    }
   ],
   "source": [
    "# read in csv file\n",
    "file_path = \"/Users/AuerPower/Metis/git/dsp/lessons/data/faculty.csv\"\n",
    "count_degrees(file_path)"
   ]
  },
  {
   "cell_type": "markdown",
   "metadata": {},
   "source": [
    "2. Write a function which reads in a csv file, and then returns a dictionary where keys are (standardized) titles and values are their frequencies in the file. \n",
    "\n",
    "    - Your function will be tested using the csv file located at: https://github.com/thisismetis/dsp/blob/master/lessons/data/faculty.csv\n",
    "    - Note that there is an unintentional type in the dataset. Your code needs to account for that. \n",
    "    - Do not use pandas"
   ]
  },
  {
   "cell_type": "code",
   "execution_count": 149,
   "metadata": {},
   "outputs": [],
   "source": [
    "def count_titles(csv_file_name):\n",
    "    csv_reader = csv.reader(open(csv_file_name), delimiter=',')\n",
    "    titles = list(list(row)[2] for row in csv_reader)[1:]\n",
    "    \n",
    "    # Fix typo\n",
    "    titles = [re.sub(\" is \", \" of \", item) for item in titles]\n",
    "    \n",
    "    # Count rows with given title\n",
    "    freq = {} \n",
    "    for items in titles:\n",
    "        freq[items] = titles.count(items)\n",
    "    \n",
    "    return freq"
   ]
  },
  {
   "cell_type": "code",
   "execution_count": 150,
   "metadata": {},
   "outputs": [
    {
     "data": {
      "text/plain": [
       "{'Associate Professor of Biostatistics': 12,\n",
       " 'Professor of Biostatistics': 13,\n",
       " 'Assistant Professor of Biostatistics': 12}"
      ]
     },
     "execution_count": 150,
     "metadata": {},
     "output_type": "execute_result"
    }
   ],
   "source": [
    "file_path = \"/Users/AuerPower/Metis/git/dsp/lessons/data/faculty.csv\"\n",
    "count_titles(file_path)"
   ]
  },
  {
   "cell_type": "markdown",
   "metadata": {},
   "source": [
    "3. Write a function which reads in a csv file, and then returns a list of emails in the file. \n",
    "\n",
    "    - Your function will be tested using the csv file located at: https://github.com/thisismetis/dsp/blob/master/lessons/data/faculty.csv\n",
    "    - Do not use pandas"
   ]
  },
  {
   "cell_type": "code",
   "execution_count": 214,
   "metadata": {},
   "outputs": [],
   "source": [
    "def emails(csv_file_name):\n",
    "    csv_reader = csv.reader(open(csv_file_name), delimiter=',')\n",
    "    emails = list(list(row)[3] for row in csv_reader)[1:]\n",
    "    return emails"
   ]
  },
  {
   "cell_type": "code",
   "execution_count": 188,
   "metadata": {
    "scrolled": true
   },
   "outputs": [
    {
     "data": {
      "text/plain": [
       "['bellamys@mail.med.upenn.edu',\n",
       " 'warren@upenn.edu',\n",
       " 'bryanma@upenn.edu',\n",
       " 'jinboche@upenn.edu',\n",
       " 'sellenbe@upenn.edu',\n",
       " 'jellenbe@mail.med.upenn.edu',\n",
       " 'ruifeng@upenn.edu',\n",
       " 'bcfrench@mail.med.upenn.edu',\n",
       " 'pgimotty@upenn.edu',\n",
       " 'wguo@mail.med.upenn.edu',\n",
       " 'hsu9@mail.med.upenn.edu',\n",
       " 'rhubb@mail.med.upenn.edu',\n",
       " 'whwang@mail.med.upenn.edu',\n",
       " 'mjoffe@mail.med.upenn.edu',\n",
       " 'jrlandis@mail.med.upenn.edu',\n",
       " 'liy3@email.chop.edu',\n",
       " 'mingyao@mail.med.upenn.edu',\n",
       " 'hongzhe@upenn.edu',\n",
       " 'rlocalio@upenn.edu',\n",
       " 'nanditam@mail.med.upenn.edu',\n",
       " 'knashawn@mail.med.upenn.edu',\n",
       " 'propert@mail.med.upenn.edu',\n",
       " 'mputt@mail.med.upenn.edu',\n",
       " 'sratclif@upenn.edu',\n",
       " 'michross@upenn.edu',\n",
       " 'jaroy@mail.med.upenn.edu',\n",
       " 'msammel@cceb.med.upenn.edu',\n",
       " 'shawp@upenn.edu',\n",
       " 'rshi@mail.med.upenn.edu',\n",
       " 'hshou@mail.med.upenn.edu',\n",
       " 'jshults@mail.med.upenn.edu',\n",
       " 'alisaste@mail.med.upenn.edu',\n",
       " 'atroxel@mail.med.upenn.edu',\n",
       " 'rxiao@mail.med.upenn.edu',\n",
       " 'sxie@mail.med.upenn.edu',\n",
       " 'dxie@upenn.edu',\n",
       " 'weiyang@mail.med.upenn.edu']"
      ]
     },
     "execution_count": 188,
     "metadata": {},
     "output_type": "execute_result"
    }
   ],
   "source": [
    "csv_file_name = \"/Users/AuerPower/Metis/git/dsp/lessons/data/faculty.csv\"\n",
    "emails(csv_file_name)"
   ]
  },
  {
   "cell_type": "markdown",
   "metadata": {},
   "source": [
    "4. Write a function that does the following: Given an list of emails, returns the unique email domains. \n",
    "    - do not use pandas"
   ]
  },
  {
   "cell_type": "code",
   "execution_count": 202,
   "metadata": {},
   "outputs": [],
   "source": [
    "def unique_domains(emails):\n",
    "    domains = []\n",
    "    for d in emails:\n",
    "        domains += [re.split(\"@\", d)[-1]]\n",
    "    domains = set(domains)\n",
    "    return list(domains)"
   ]
  },
  {
   "cell_type": "code",
   "execution_count": 203,
   "metadata": {},
   "outputs": [
    {
     "data": {
      "text/plain": [
       "['cceb.med.upenn.edu', 'email.chop.edu', 'upenn.edu', 'mail.med.upenn.edu']"
      ]
     },
     "execution_count": 203,
     "metadata": {},
     "output_type": "execute_result"
    }
   ],
   "source": [
    "email_list = emails(csv_file_name)\n",
    "unique_domains(email_list)"
   ]
  },
  {
   "cell_type": "markdown",
   "metadata": {},
   "source": [
    "5. Write a function that, given a list of emails, writes the emails to a file called \"emails.csv\". Add a header of your choosing to your file as the first line."
   ]
  },
  {
   "cell_type": "code",
   "execution_count": 234,
   "metadata": {},
   "outputs": [],
   "source": [
    "def write_to_csv(list_of_emails):\n",
    "    with open('emails.csv', 'w', newline='') as csvfile:\n",
    "        writer = csv.writer(csvfile, delimiter=',')\n",
    "        writer.writerow(['emails'])\n",
    "        for e in list_of_emails:\n",
    "            writer.writerow([e])"
   ]
  },
  {
   "cell_type": "code",
   "execution_count": 204,
   "metadata": {},
   "outputs": [
    {
     "data": {
      "text/plain": [
       "'/Users/AuerPower/Metis/git/dsp/lessons/python_advanced'"
      ]
     },
     "execution_count": 204,
     "metadata": {},
     "output_type": "execute_result"
    }
   ],
   "source": [
    "pwd"
   ]
  },
  {
   "cell_type": "code",
   "execution_count": 235,
   "metadata": {},
   "outputs": [],
   "source": [
    "email_list = ['bellamys@mail.med.upenn.edu',\n",
    " 'warren@upenn.edu',\n",
    " 'bryanma@upenn.edu',\n",
    " 'jinboche@upenn.edu',\n",
    " 'sellenbe@upenn.edu',\n",
    " 'jellenbe@mail.med.upenn.edu',\n",
    " 'ruifeng@upenn.edu',\n",
    " 'bcfrench@mail.med.upenn.edu',\n",
    " 'pgimotty@upenn.edu',\n",
    " 'wguo@mail.med.upenn.edu',\n",
    " 'hsu9@mail.med.upenn.edu',\n",
    " 'rhubb@mail.med.upenn.edu',\n",
    " 'whwang@mail.med.upenn.edu',\n",
    " 'mjoffe@mail.med.upenn.edu',\n",
    " 'jrlandis@mail.med.upenn.edu',\n",
    " 'liy3@email.chop.edu',\n",
    " 'mingyao@mail.med.upenn.edu',\n",
    " 'hongzhe@upenn.edu',\n",
    " 'rlocalio@upenn.edu']\n",
    "\n",
    "write_to_csv(email_list)"
   ]
  },
  {
   "cell_type": "markdown",
   "metadata": {},
   "source": [
    "6. Building on the previous question; Write a function which reads in \"faculty.csv\", and then returns a dictionary where keys are last names, and values are corresponding rows.\n",
    "\n",
    "example = {'Li': [[' PhD', 'Assistant Professor of Biostatistics', 'liy3@email.chop.edu'],}"
   ]
  },
  {
   "cell_type": "code",
   "execution_count": 336,
   "metadata": {},
   "outputs": [],
   "source": [
    "def get_dict():\n",
    "    csv_reader = csv.reader(open('/Users/AuerPower/Metis/git/dsp/lessons/data/faculty.csv', 'r'), delimiter=',')\n",
    "    name_dict = {}\n",
    "    firstline = True\n",
    "    for row in csv_reader:\n",
    "        if firstline:\n",
    "            firstline = False\n",
    "            continue\n",
    "        if row[0].split()[-1] in name_dict:\n",
    "            name_dict[row[0].split()[-1]].append([row[1], row[2], row[3]])\n",
    "        else:\n",
    "            name_dict[row[0].split()[-1]] = [[row[1], row[2], row[3]]]\n",
    "    return name_dict"
   ]
  },
  {
   "cell_type": "code",
   "execution_count": 337,
   "metadata": {},
   "outputs": [
    {
     "data": {
      "text/plain": [
       "{'Bellamy': [[' Sc.D.',\n",
       "   'Associate Professor of Biostatistics',\n",
       "   'bellamys@mail.med.upenn.edu']],\n",
       " 'Bilker': [['Ph.D.', 'Professor of Biostatistics', 'warren@upenn.edu']],\n",
       " 'Bryan': [[' PhD',\n",
       "   'Assistant Professor of Biostatistics',\n",
       "   'bryanma@upenn.edu']],\n",
       " 'Chen': [[' Ph.D.',\n",
       "   'Associate Professor of Biostatistics',\n",
       "   'jinboche@upenn.edu']],\n",
       " 'Ellenberg': [[' Ph.D.', 'Professor of Biostatistics', 'sellenbe@upenn.edu'],\n",
       "  [' Ph.D.', 'Professor of Biostatistics', 'jellenbe@mail.med.upenn.edu']],\n",
       " 'Feng': [[' Ph.D',\n",
       "   'Assistant Professor of Biostatistics',\n",
       "   'ruifeng@upenn.edu']],\n",
       " 'French': [[' PhD',\n",
       "   'Associate Professor of Biostatistics',\n",
       "   'bcfrench@mail.med.upenn.edu']],\n",
       " 'Gimotty': [[' Ph.D', 'Professor of Biostatistics', 'pgimotty@upenn.edu']],\n",
       " 'Guo': [[' Ph.D', 'Professor of Biostatistics', 'wguo@mail.med.upenn.edu']],\n",
       " 'Hsu': [[' Ph.D.',\n",
       "   'Assistant Professor of Biostatistics',\n",
       "   'hsu9@mail.med.upenn.edu']],\n",
       " 'Hubbard': [[' PhD',\n",
       "   'Associate Professor of Biostatistics',\n",
       "   'rhubb@mail.med.upenn.edu']],\n",
       " 'Hwang': [[' Ph.D.',\n",
       "   'Associate Professor of Biostatistics',\n",
       "   'whwang@mail.med.upenn.edu']],\n",
       " 'Joffe': [[' MD MPH Ph.D',\n",
       "   'Professor of Biostatistics',\n",
       "   'mjoffe@mail.med.upenn.edu']],\n",
       " 'Landis': [[' B.S.Ed. M.S. Ph.D.',\n",
       "   'Professor of Biostatistics',\n",
       "   'jrlandis@mail.med.upenn.edu']],\n",
       " 'Li': [[' Ph.D.',\n",
       "   'Assistant Professor of Biostatistics',\n",
       "   'liy3@email.chop.edu'],\n",
       "  [' Ph.D.',\n",
       "   'Associate Professor of Biostatistics',\n",
       "   'mingyao@mail.med.upenn.edu'],\n",
       "  [' Ph.D', 'Professor of Biostatistics', 'hongzhe@upenn.edu']],\n",
       " 'Localio': [[' JD MA MPH MS PhD',\n",
       "   'Associate Professor of Biostatistics',\n",
       "   'rlocalio@upenn.edu']],\n",
       " 'Mitra': [[' Ph.D.',\n",
       "   'Associate Professor of Biostatistics',\n",
       "   'nanditam@mail.med.upenn.edu']],\n",
       " 'Morales': [[' Sc.D.',\n",
       "   'Associate Professor of Biostatistics',\n",
       "   'knashawn@mail.med.upenn.edu']],\n",
       " 'Propert': [[' Sc.D.',\n",
       "   'Professor of Biostatistics',\n",
       "   'propert@mail.med.upenn.edu']],\n",
       " 'Putt': [[' PhD ScD',\n",
       "   'Professor of Biostatistics',\n",
       "   'mputt@mail.med.upenn.edu']],\n",
       " 'Ratcliffe': [[' Ph.D.',\n",
       "   'Associate Professor of Biostatistics',\n",
       "   'sratclif@upenn.edu']],\n",
       " 'Ross': [[' PhD',\n",
       "   'Assistant Professor is Biostatistics',\n",
       "   'michross@upenn.edu']],\n",
       " 'Roy': [[' Ph.D.',\n",
       "   'Associate Professor of Biostatistics',\n",
       "   'jaroy@mail.med.upenn.edu']],\n",
       " 'Sammel': [[' Sc.D.',\n",
       "   'Professor of Biostatistics',\n",
       "   'msammel@cceb.med.upenn.edu']],\n",
       " 'Shaw': [[' PhD', 'Assistant Professor of Biostatistics', 'shawp@upenn.edu']],\n",
       " 'Shinohara': [['0',\n",
       "   'Assistant Professor of Biostatistics',\n",
       "   'rshi@mail.med.upenn.edu']],\n",
       " 'Shou': [[' Ph.D.',\n",
       "   'Assistant Professor of Biostatistics',\n",
       "   'hshou@mail.med.upenn.edu']],\n",
       " 'Shults': [[' Ph.D.',\n",
       "   'Professor of Biostatistics',\n",
       "   'jshults@mail.med.upenn.edu']],\n",
       " 'Stephens': [[' Ph.D.',\n",
       "   'Assistant Professor of Biostatistics',\n",
       "   'alisaste@mail.med.upenn.edu']],\n",
       " 'Troxel': [[' ScD',\n",
       "   'Professor of Biostatistics',\n",
       "   'atroxel@mail.med.upenn.edu']],\n",
       " 'Xiao': [[' PhD',\n",
       "   'Assistant Professor of Biostatistics',\n",
       "   'rxiao@mail.med.upenn.edu']],\n",
       " 'Xie': [[' Ph.D.',\n",
       "   'Associate Professor of Biostatistics',\n",
       "   'sxie@mail.med.upenn.edu'],\n",
       "  [' PhD', 'Assistant Professor of Biostatistics', 'dxie@upenn.edu']],\n",
       " 'Yang': [[' Ph.D.',\n",
       "   'Assistant Professor of Biostatistics',\n",
       "   'weiyang@mail.med.upenn.edu']]}"
      ]
     },
     "execution_count": 337,
     "metadata": {},
     "output_type": "execute_result"
    }
   ],
   "source": [
    "get_dict()"
   ]
  },
  {
   "cell_type": "markdown",
   "metadata": {},
   "source": [
    "7. Write a function which reads in \"faculty.csv\", and then returns a dictionary where keys are tuples of names, and values are corresponding rows. You can assume that the tupels are unique so there will be a unique row per tuple.\n",
    "    - faculty_dict = { ('Benjamin', 'C.', 'French'): ['PhD', 'Associate Professor of Biostatistics', 'bcfrench@mail.med.upenn.edu'], ...}"
   ]
  },
  {
   "cell_type": "code",
   "execution_count": 359,
   "metadata": {},
   "outputs": [],
   "source": [
    "def get_dict():\n",
    "    csv_reader = csv.reader(open('/Users/AuerPower/Metis/git/dsp/lessons/data/faculty.csv', 'r'), delimiter=\",\")\n",
    "    faculty_dict = {}\n",
    "    firstline = True\n",
    "    for row in csv_reader:\n",
    "        if firstline:\n",
    "            firstline = False\n",
    "            continue\n",
    "        faculty_dict[tuple(row[0].split())] = [row[1], row[2], row[3]]\n",
    "    return faculty_dict"
   ]
  },
  {
   "cell_type": "code",
   "execution_count": 360,
   "metadata": {},
   "outputs": [
    {
     "data": {
      "text/plain": [
       "{('Scarlett', 'L.', 'Bellamy'): [' Sc.D.',\n",
       "  'Associate Professor of Biostatistics',\n",
       "  'bellamys@mail.med.upenn.edu'],\n",
       " ('Warren', 'B.', 'Bilker'): ['Ph.D.',\n",
       "  'Professor of Biostatistics',\n",
       "  'warren@upenn.edu'],\n",
       " ('Matthew', 'W', 'Bryan'): [' PhD',\n",
       "  'Assistant Professor of Biostatistics',\n",
       "  'bryanma@upenn.edu'],\n",
       " ('Jinbo', 'Chen'): [' Ph.D.',\n",
       "  'Associate Professor of Biostatistics',\n",
       "  'jinboche@upenn.edu'],\n",
       " ('Susan', 'S', 'Ellenberg'): [' Ph.D.',\n",
       "  'Professor of Biostatistics',\n",
       "  'sellenbe@upenn.edu'],\n",
       " ('Jonas', 'H.', 'Ellenberg'): [' Ph.D.',\n",
       "  'Professor of Biostatistics',\n",
       "  'jellenbe@mail.med.upenn.edu'],\n",
       " ('Rui', 'Feng'): [' Ph.D',\n",
       "  'Assistant Professor of Biostatistics',\n",
       "  'ruifeng@upenn.edu'],\n",
       " ('Benjamin', 'C.', 'French'): [' PhD',\n",
       "  'Associate Professor of Biostatistics',\n",
       "  'bcfrench@mail.med.upenn.edu'],\n",
       " ('Phyllis', 'A.', 'Gimotty'): [' Ph.D',\n",
       "  'Professor of Biostatistics',\n",
       "  'pgimotty@upenn.edu'],\n",
       " ('Wensheng', 'Guo'): [' Ph.D',\n",
       "  'Professor of Biostatistics',\n",
       "  'wguo@mail.med.upenn.edu'],\n",
       " ('Yenchih', 'Hsu'): [' Ph.D.',\n",
       "  'Assistant Professor of Biostatistics',\n",
       "  'hsu9@mail.med.upenn.edu'],\n",
       " ('Rebecca', 'A', 'Hubbard'): [' PhD',\n",
       "  'Associate Professor of Biostatistics',\n",
       "  'rhubb@mail.med.upenn.edu'],\n",
       " ('Wei-Ting', 'Hwang'): [' Ph.D.',\n",
       "  'Associate Professor of Biostatistics',\n",
       "  'whwang@mail.med.upenn.edu'],\n",
       " ('Marshall', 'M.', 'Joffe'): [' MD MPH Ph.D',\n",
       "  'Professor of Biostatistics',\n",
       "  'mjoffe@mail.med.upenn.edu'],\n",
       " ('J.', 'Richard', 'Landis'): [' B.S.Ed. M.S. Ph.D.',\n",
       "  'Professor of Biostatistics',\n",
       "  'jrlandis@mail.med.upenn.edu'],\n",
       " ('Yimei', 'Li'): [' Ph.D.',\n",
       "  'Assistant Professor of Biostatistics',\n",
       "  'liy3@email.chop.edu'],\n",
       " ('Mingyao', 'Li'): [' Ph.D.',\n",
       "  'Associate Professor of Biostatistics',\n",
       "  'mingyao@mail.med.upenn.edu'],\n",
       " ('Hongzhe', 'Li'): [' Ph.D',\n",
       "  'Professor of Biostatistics',\n",
       "  'hongzhe@upenn.edu'],\n",
       " ('A.', 'Russell', 'Localio'): [' JD MA MPH MS PhD',\n",
       "  'Associate Professor of Biostatistics',\n",
       "  'rlocalio@upenn.edu'],\n",
       " ('Nandita', 'Mitra'): [' Ph.D.',\n",
       "  'Associate Professor of Biostatistics',\n",
       "  'nanditam@mail.med.upenn.edu'],\n",
       " ('Knashawn', 'H.', 'Morales'): [' Sc.D.',\n",
       "  'Associate Professor of Biostatistics',\n",
       "  'knashawn@mail.med.upenn.edu'],\n",
       " ('Kathleen', 'Joy', 'Propert'): [' Sc.D.',\n",
       "  'Professor of Biostatistics',\n",
       "  'propert@mail.med.upenn.edu'],\n",
       " ('Mary', 'E.', 'Putt'): [' PhD ScD',\n",
       "  'Professor of Biostatistics',\n",
       "  'mputt@mail.med.upenn.edu'],\n",
       " ('Sarah', 'Jane', 'Ratcliffe'): [' Ph.D.',\n",
       "  'Associate Professor of Biostatistics',\n",
       "  'sratclif@upenn.edu'],\n",
       " ('Michelle', 'Elana', 'Ross'): [' PhD',\n",
       "  'Assistant Professor is Biostatistics',\n",
       "  'michross@upenn.edu'],\n",
       " ('Jason', 'A.', 'Roy'): [' Ph.D.',\n",
       "  'Associate Professor of Biostatistics',\n",
       "  'jaroy@mail.med.upenn.edu'],\n",
       " ('Mary', 'D.', 'Sammel'): [' Sc.D.',\n",
       "  'Professor of Biostatistics',\n",
       "  'msammel@cceb.med.upenn.edu'],\n",
       " ('Pamela', 'Ann', 'Shaw'): [' PhD',\n",
       "  'Assistant Professor of Biostatistics',\n",
       "  'shawp@upenn.edu'],\n",
       " ('Russell', 'Takeshi', 'Shinohara'): ['0',\n",
       "  'Assistant Professor of Biostatistics',\n",
       "  'rshi@mail.med.upenn.edu'],\n",
       " ('Haochang', 'Shou'): [' Ph.D.',\n",
       "  'Assistant Professor of Biostatistics',\n",
       "  'hshou@mail.med.upenn.edu'],\n",
       " ('Justine', 'Shults'): [' Ph.D.',\n",
       "  'Professor of Biostatistics',\n",
       "  'jshults@mail.med.upenn.edu'],\n",
       " ('Alisa', 'Jane', 'Stephens'): [' Ph.D.',\n",
       "  'Assistant Professor of Biostatistics',\n",
       "  'alisaste@mail.med.upenn.edu'],\n",
       " ('Andrea', 'Beth', 'Troxel'): [' ScD',\n",
       "  'Professor of Biostatistics',\n",
       "  'atroxel@mail.med.upenn.edu'],\n",
       " ('Rui', 'Xiao'): [' PhD',\n",
       "  'Assistant Professor of Biostatistics',\n",
       "  'rxiao@mail.med.upenn.edu'],\n",
       " ('Sharon', 'Xiangwen', 'Xie'): [' Ph.D.',\n",
       "  'Associate Professor of Biostatistics',\n",
       "  'sxie@mail.med.upenn.edu'],\n",
       " ('Dawei', 'Xie'): [' PhD',\n",
       "  'Assistant Professor of Biostatistics',\n",
       "  'dxie@upenn.edu'],\n",
       " ('Wei', '(Peter)', 'Yang'): [' Ph.D.',\n",
       "  'Assistant Professor of Biostatistics',\n",
       "  'weiyang@mail.med.upenn.edu']}"
      ]
     },
     "execution_count": 360,
     "metadata": {},
     "output_type": "execute_result"
    }
   ],
   "source": [
    "get_dict()"
   ]
  },
  {
   "cell_type": "code",
   "execution_count": null,
   "metadata": {},
   "outputs": [],
   "source": []
  }
 ],
 "metadata": {
  "kernelspec": {
   "display_name": "Python 3",
   "language": "python",
   "name": "python3"
  },
  "language_info": {
   "codemirror_mode": {
    "name": "ipython",
    "version": 3
   },
   "file_extension": ".py",
   "mimetype": "text/x-python",
   "name": "python",
   "nbconvert_exporter": "python",
   "pygments_lexer": "ipython3",
   "version": "3.7.4"
  }
 },
 "nbformat": 4,
 "nbformat_minor": 2
}
